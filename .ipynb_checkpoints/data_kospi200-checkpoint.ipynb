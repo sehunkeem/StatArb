{
 "cells": [
  {
   "cell_type": "code",
   "execution_count": 59,
   "id": "ca6e12a2-e352-40b0-8400-38fe86f5caac",
   "metadata": {},
   "outputs": [],
   "source": [
    "import numpy as np\n",
    "import pandas as pd\n",
    "import FinanceDataReader as fdr\n",
    "import yfinance as yf\n",
    "import datetime\n",
    "import requests # Requests to grab source code from Wiki page\n",
    "from bs4 import BeautifulSoup"
   ]
  },
  {
   "cell_type": "code",
   "execution_count": 48,
   "id": "096c86a2-89ac-469e-9719-8252a209c825",
   "metadata": {},
   "outputs": [],
   "source": [
    "df_krx = fdr.StockListing('KRX')"
   ]
  },
  {
   "cell_type": "code",
   "execution_count": 49,
   "id": "42a1b6a9-1045-4c0a-ada0-8bc7712b4556",
   "metadata": {},
   "outputs": [],
   "source": [
    "df_krx = df_krx[(df_krx.Market == 'KOSPI')]\n",
    "df_krx.reset_index(inplace = True, drop=True)"
   ]
  },
  {
   "cell_type": "code",
   "execution_count": 50,
   "id": "f280c025-a526-4cdd-98bf-7b6ebd3f1b19",
   "metadata": {},
   "outputs": [],
   "source": [
    "df_krx200 = df_krx.iloc[0:200,:]\n",
    "tickers_krx200 = list(df_krx200.Code)"
   ]
  },
  {
   "cell_type": "code",
   "execution_count": 55,
   "id": "70461b39-4c6e-4839-b89f-7a3d2e441fee",
   "metadata": {},
   "outputs": [],
   "source": [
    "tickers_krx200 = [i + '.KS' for i in tickers_krx200]"
   ]
  },
  {
   "cell_type": "code",
   "execution_count": 57,
   "id": "746191af-7dc6-45f5-818a-3a678c9ebfb3",
   "metadata": {},
   "outputs": [
    {
     "name": "stdout",
     "output_type": "stream",
     "text": [
      "[*********************100%***********************]  200 of 200 completed\n"
     ]
    }
   ],
   "source": [
    "start = datetime.datetime(2007 ,1 ,1)\n",
    "end = datetime.datetime(2022, 12, 31)\n",
    "data = yf.download(tickers_krx200, start = start, end = end)"
   ]
  },
  {
   "cell_type": "code",
   "execution_count": 60,
   "id": "201d0a9b-0567-4b9a-ba2a-26996efd0a9a",
   "metadata": {},
   "outputs": [],
   "source": [
    "data.index = pd.to_datetime(data.index)\n",
    "data.index = data.index.strftime('%Y-%m-%d')"
   ]
  },
  {
   "cell_type": "code",
   "execution_count": 63,
   "id": "d3356afc-ec0d-44dc-adaa-81f0d4e56ad2",
   "metadata": {},
   "outputs": [],
   "source": [
    "df = data.stack().reset_index().rename(index = str,  # .stack() moves the 2nd row of the columns to the rows,\n",
    "                                       columns = {\n",
    "                                           \"level_1\":\"Symbol\"\n",
    "                                       }).sort_values(['Symbol', 'Date']) #  .reset_index() collapses the two rows of columns into a single one\n",
    "df.set_index('Date', inplace = True)"
   ]
  },
  {
   "cell_type": "code",
   "execution_count": 72,
   "id": "04050ddb-ec43-4641-b2c0-59d0ae288865",
   "metadata": {},
   "outputs": [],
   "source": [
    "# df.to_csv(r\"/Users/skim/Desktop/Code/Quant/data/kospi200.csv\")\n",
    "df_stocks = pd.read_csv(r\"/Users/skim/Desktop/Code/Quant/data/snp500.csv\")"
   ]
  },
  {
   "cell_type": "code",
   "execution_count": 66,
   "id": "8781b803-bd24-4308-986a-b3b7e7245a3e",
   "metadata": {},
   "outputs": [],
   "source": [
    "ticker_names = np.unique(df['Symbol'])\n",
    "df_dividends = pd.DataFrame(0, columns = ticker_names, index = data.index)\n",
    "\n",
    "for i in ticker_names[0:5]:\n",
    "    temp_ticker = yf.Ticker(str(i))\n",
    "    temp_div_data = yf.Ticker(str(i)).history(start = start, end = end)['Dividends']\n",
    "    temp_div_data.index = pd.to_datetime(temp_div_data.index)\n",
    "    temp_div_data.index = temp_div_data.index.strftime('%Y-%m-%d')\n",
    "    df_dividends[i] = temp_div_data"
   ]
  },
  {
   "cell_type": "code",
   "execution_count": 73,
   "id": "2444ec2d-13cb-4943-a538-21b4f614a6e5",
   "metadata": {},
   "outputs": [],
   "source": [
    "# df_dividends.to_csv(r\"/Users/skim/Desktop/Code/Quant/data/kospi200_dividends.csv\")\n"
   ]
  },
  {
   "cell_type": "code",
   "execution_count": null,
   "id": "97dc18fb-afa6-46ab-ab9c-dd6656f4c926",
   "metadata": {},
   "outputs": [],
   "source": []
  }
 ],
 "metadata": {
  "kernelspec": {
   "display_name": "Python 3 (ipykernel)",
   "language": "python",
   "name": "python3"
  },
  "language_info": {
   "codemirror_mode": {
    "name": "ipython",
    "version": 3
   },
   "file_extension": ".py",
   "mimetype": "text/x-python",
   "name": "python",
   "nbconvert_exporter": "python",
   "pygments_lexer": "ipython3",
   "version": "3.9.15"
  }
 },
 "nbformat": 4,
 "nbformat_minor": 5
}
