{
 "cells": [
  {
   "cell_type": "code",
   "execution_count": 12,
   "id": "42b2a9be-c01e-4fb1-9e92-81f67d802d79",
   "metadata": {},
   "outputs": [],
   "source": [
    "import os\n",
    "import numpy as np\n",
    "import pandas as pd\n",
    "import matplotlib.pyplot as plt\n",
    "from sklearn.decomposition import PCA\n",
    "from sklearn.linear_model import LinearRegression\n",
    "import math\n",
    "from tqdm.auto import tqdm\n",
    "\n",
    "# Turning off the warning message\n",
    "pd.set_option('mode.chained_assignment', None)"
   ]
  },
  {
   "cell_type": "markdown",
   "id": "56e7eeb6-6c2b-456e-a5e3-5ea93b66f5ce",
   "metadata": {},
   "source": [
    "### Loading S&P500 levels and dividends data\n",
    "I will be learning the PCA matrix with one year of data, and apply the algorithm on six months of data after the calibration period."
   ]
  },
  {
   "cell_type": "code",
   "execution_count": 18,
   "id": "e5accdfc-4b27-40cc-89fb-6377e609bba4",
   "metadata": {},
   "outputs": [
    {
     "name": "stdout",
     "output_type": "stream",
     "text": [
      "There are 8 stocks with missing data\n"
     ]
    }
   ],
   "source": [
    "df_snp500 = pd.read_csv(os.path.join('/Users/skim/Desktop/Code/Quant/data/kospi200.csv'))\n",
    "df_snp500 = df_snp500[['Date','Symbol','Close']]\n",
    "start_date = '2020-01-01'\n",
    "end_date = '2021-06-31'\n",
    "df_snp500 = df_snp500.loc[(df_snp500.Date > start_date) & (df_snp500.Date < end_date)]\n",
    "df_snp500_wide = df_snp500.pivot(index='Date', columns='Symbol', values='Close')\n",
    "print(f'There are {sum(df_snp500_wide.isna().sum() > 0)} stocks with missing data')"
   ]
  },
  {
   "cell_type": "code",
   "execution_count": 19,
   "id": "6d970b5e-8142-44c2-a02e-9bb9af1460bf",
   "metadata": {},
   "outputs": [],
   "source": [
    "df_dividends = pd.read_csv(os.path.join('/Users/skim/Desktop/Code/Quant/data/kospi200_dividends.csv'))\n",
    "df_dividends = df_dividends.loc[(df_dividends.Date > '2020-01-01') & (df_dividends.Date < '2021-06-31')]\n",
    "df_dividends.set_index(df_dividends.Date, inplace = True)\n",
    "df_dividends.drop(columns = ['Date'], inplace = True)\n",
    "df_dividends = df_dividends.loc[:, list(df_snp500_wide.columns)]"
   ]
  },
  {
   "cell_type": "code",
   "execution_count": 4,
   "id": "790e4370-1d18-4108-a6e2-186c693e9571",
   "metadata": {},
   "outputs": [
    {
     "name": "stdout",
     "output_type": "stream",
     "text": [
      "There are 5 stocks with missing data\n"
     ]
    }
   ],
   "source": [
    "df_snp500 = pd.read_csv(os.path.join('/Users/skim/Desktop/Code/Quant/data/snp500.csv'))\n",
    "df_snp500 = df_snp500[['Date','Symbol','Close']]\n",
    "start_date = '2020-01-01'\n",
    "end_date = '2022-16-31'\n",
    "df_snp500 = df_snp500.loc[(df_snp500.Date > start_date) & (df_snp500.Date < end_date)]\n",
    "df_snp500_wide = df_snp500.pivot(index='Date', columns='Symbol', values='Close')\n",
    "print(f'There are {sum(df_snp500_wide.isna().sum() > 0)} stocks with missing data')"
   ]
  },
  {
   "cell_type": "code",
   "execution_count": 5,
   "id": "0ad50992-3ae0-4945-88e3-093c7074cef3",
   "metadata": {},
   "outputs": [],
   "source": [
    "df_dividends = pd.read_csv(os.path.join('/Users/skim/Desktop/Code/Quant/data/snp500_dividends.csv'))\n",
    "df_dividends = df_dividends.loc[(df_dividends.Date > '2020-01-01') & (df_dividends.Date < '2022-12-31')]\n",
    "df_dividends.set_index(df_dividends.Date, inplace = True)\n",
    "df_dividends.drop(columns = ['Date'], inplace = True)\n",
    "df_dividends = df_dividends.loc[:, list(df_snp500_wide.columns)]"
   ]
  },
  {
   "cell_type": "code",
   "execution_count": 21,
   "id": "fd86716c-97f1-4da0-ab25-5a38edeb1e32",
   "metadata": {
    "tags": []
   },
   "outputs": [
    {
     "name": "stdout",
     "output_type": "stream",
     "text": [
      "There are 183 stocks with no missing data\n"
     ]
    }
   ],
   "source": [
    "# Remove columns(stocks) with NAs\n",
    "df_snp500_wide = df_snp500_wide.loc[:,(df_snp500_wide.isna().sum() == 0).values]\n",
    "print(f'There are {df_snp500_wide.shape[1]} stocks with no missing data')"
   ]
  },
  {
   "cell_type": "code",
   "execution_count": 22,
   "id": "65bcacc6-701e-40bb-b16a-8cbccf584380",
   "metadata": {},
   "outputs": [],
   "source": [
    "df_data = df_snp500_wide"
   ]
  },
  {
   "cell_type": "code",
   "execution_count": 23,
   "id": "92d72917-0bd6-468f-a9f5-03b58faa77ff",
   "metadata": {},
   "outputs": [],
   "source": [
    "def compute_return(data):\n",
    "    '''\n",
    "    Computes daily returns for each column(stock).\n",
    "    '''\n",
    "    df_return = (data-data.shift(1))/data\n",
    "    df_return = df_return.drop(df_return.index[0])\n",
    "    return df_return\n",
    "\n",
    "\n",
    "def PCA_fator(df_return, delay, fac_num):\n",
    "    '''\n",
    "    Returns eigenvectors and eigenportfolio weights.\n",
    "    \n",
    "    ## Notations ## \n",
    "    N: Number of stocks\n",
    "    T: Length of dataframe\n",
    "    W: delay = 252\n",
    "    P: Number of PCA factors\n",
    "    \n",
    "    ## Variables ##\n",
    "    df_return: ((T-1) x N) dataframe of daily returns\n",
    "    delay: Number of days used for PCA computation\n",
    "    fac_num: number of PCA factors\n",
    "    '''\n",
    "    mean = df_return.mean(axis = 0) # (N x 1), Mean return of stocks\n",
    "    std = df_return.std(axis = 0) # (N x 1), Sample standard deviation of stock returns\n",
    "    std_ret = (df_return-mean)/std # (N x 1), Standardised return\n",
    "    \n",
    "    pca = PCA(n_components = fac_num)\n",
    "    pca.fit(std_ret[0:delay]) # Fit PCA with first T observations\n",
    "    pf_weight = pd.DataFrame(pca.components_) # (P x N), P eigenvectors(rows) of length N\n",
    "    pf_weight.columns = std.index\n",
    "    pf_weight = pf_weight/std # Each row is an eigenvector/sample standard deviation for factor j, representing eigenportfolio weights for stocks\n",
    "    factor_ret = pd.DataFrame(df_return@pf_weight.transpose(), index = df_return.index) # (T x P), Eigenportfolio returns\n",
    "    return factor_ret, pf_weight"
   ]
  },
  {
   "cell_type": "markdown",
   "id": "416bccb0-8f3b-4a8d-aa11-843cb3ac4b2e",
   "metadata": {},
   "source": [
    "For stock $i$, we fit below PCR regression, and obtain coefficients and residual process.\n",
    "$$ \\epsilon_{i,t} = \\text{stock return}_{i,t} - \\hat{\\text{stock return}_{t, p}}$$\n",
    "$$ = \\text{stock return}_{i,t} - (\\alpha + \\sum_{p=1}^{P} \\beta_{p,i} * \\text{eigenportfolio return}_{t, p})$$"
   ]
  },
  {
   "cell_type": "code",
   "execution_count": 24,
   "id": "c5cf5c5a-ee1a-4b1c-aa43-3fc7473447aa",
   "metadata": {},
   "outputs": [],
   "source": [
    "def find_Residue(df_return, ret_factorret):\n",
    "    '''\n",
    "    Returns OLS coefficients of residual process\n",
    "    \n",
    "    ## Notations ## \n",
    "    N: Number of stocks\n",
    "    w: backtesting window = 60\n",
    "    P: Number of PCA factors\n",
    "    \n",
    "    ## Variables ##\n",
    "    df_return: ((w-1) x N), dataframe of daily returns\n",
    "    ret_factorret: ((w-1) x N), eigenportfolio returns\n",
    "    res: ((w-1) x N), \n",
    "    coef: (P x N), each column contains OLS coefficients for PCA factor regression\n",
    "    '''\n",
    "    T, P = ret_factorret.shape\n",
    "    res = pd.DataFrame(columns = df_return.columns, index = df_return.index)\n",
    "    coef = pd.DataFrame(columns = df_return.columns, index = range(P)) \n",
    "    ols = LinearRegression()\n",
    "    for i in df_return.columns: \n",
    "        ols.fit(ret_factorret, df_return[i]) # fit (w x P) eigenportfolio returns data to (w x 1) stock i returns data.\n",
    "        res[i] = df_return[i] - ols.intercept_ - np.dot(ret_factorret, ols.coef_) # Each column of res is the daily residual\n",
    "        coef[i] = ols.coef_\n",
    "    return res, coef"
   ]
  },
  {
   "cell_type": "markdown",
   "id": "8af6aec8-ead9-445e-99fc-f858d706fc17",
   "metadata": {},
   "source": [
    "We select stocks with mean-reversion times less than 1/2 period, i.e. $\\kappa > \\frac{252}{30} = 8.4$, and the s-score is for stock i is given by $$ s_i = \\frac{\\epsilon_i(t)-m_i}{\\sigma_{\\text{eq,i}}} $$\n",
    "where $m_i$ is sample mean of cumulative residuals, and $\\sigma_{\\text{eq,i}} = \\frac{\\sigma_i}{\\sqrt{2 \\kappa_i}}$"
   ]
  },
  {
   "cell_type": "code",
   "execution_count": 25,
   "id": "fd7d3729-b355-48c7-ba05-cd1fa1586ce6",
   "metadata": {},
   "outputs": [],
   "source": [
    "def find_Target_sscores(res, k):\n",
    "    '''\n",
    "    Compute trading signal, s-score.\n",
    "    \n",
    "    ## Notations ## \n",
    "    N: Number of stocks\n",
    "    w: backtesting window = 60\n",
    "    P: Number of PCA factors\n",
    "    \n",
    "    ## Variables ##\n",
    "    df_return: ((w-1) x N), dataframe of daily returns\n",
    "    ret_factorret: ((w-1) x N), eigenportfolio returns\n",
    "    res: ((w-1) x N), \n",
    "    coef: (P x N), each column contains OLS coefficients for PCA factor regression\n",
    "    s_score: (N x 1), s-score for each stock \n",
    "    '''\n",
    "    cum_res = res.cumsum() # ((w-1) x N) df of cumulative residuals\n",
    "    m = pd.Series(index = cum_res.columns, dtype = 'float64') # (N x 1), mean \n",
    "    sigma_eq = pd.Series(index = cum_res.columns, dtype = 'float64') # (N x 1) series\n",
    "    for i in cum_res.columns: # For each stock \n",
    "        b = cum_res[i].autocorr() # A scalar of autocorrelation of first lag \n",
    "        if -math.log(b) * 252 > k: \n",
    "            '''\n",
    "            The higher the first order autocorr, the lower the value of -math.log(b) * 252.\n",
    "            This is a measure of mean-reversion time, and we choose stock i with mean-reversion times less than 0.5 period(30 days),\n",
    "            i.e. k = 252/30 = 8.4\n",
    "            '''\n",
    "            temp = (cum_res[i]-cum_res[i].shift(1) * b)[1:] # AR(1) prediction residuals of cumulative residuals = Current cumulative residual - (b * previous cumulative residual)\n",
    "            a = temp.mean()\n",
    "            cosi = temp - a\n",
    "            m[i] = a/(1-b)\n",
    "            sigma_eq[i] = math.sqrt(cosi.var()/(1-b*b))\n",
    "    m = m.dropna()\n",
    "    m = m - m.mean()\n",
    "    sigma_eq = sigma_eq.dropna()\n",
    "    s_score = -m / sigma_eq\n",
    "    return s_score"
   ]
  },
  {
   "cell_type": "code",
   "execution_count": 66,
   "id": "19de843d-446c-424d-b28c-a881b7416085",
   "metadata": {},
   "outputs": [],
   "source": [
    "def backtest():\n",
    "    '''\n",
    "    ## Notations ## \n",
    "    N: Number of stocks\n",
    "    T: Length of dataframe\n",
    "    W: delay\n",
    "    P: Number of PCA factors\n",
    "    '''\n",
    "    pnl_list = []\n",
    "    sbo = 2 # buy to open threshold\n",
    "    sso = 2 # sell to open\n",
    "    sbc = 0.75 # buy to close\n",
    "    ssc = 0.5 # sell to close\n",
    "    leverage = 1\n",
    "    tran_cost = 0.0005\n",
    "    r = 0.00\n",
    "    window = 60\n",
    "    k = 8.4\n",
    "    P = 15\n",
    "\n",
    "    delay = 252\n",
    "    start_val = 100\n",
    "    pnl = pd.Series(start_val, index = df_data.index[delay-1:]) # pnl for OOS backtesting\n",
    "    \n",
    "    position_stock = pd.DataFrame(0, columns = df_data.columns, index = ['stock'] + list(range(15))) # ((P+1) x N) df\n",
    "    position_stock_before = pd.Series(0, index = df_data.columns) # (N x 1) series\n",
    "    \n",
    "    daily_ret = compute_return(df_data)\n",
    "    fac_ret, weights = PCA_fator(daily_ret, delay, P)\n",
    "\n",
    "    # (W-1) to T-1\n",
    "    for t in tqdm(range(delay-1, len(df_data.index)-1)):\n",
    "    # find the window price of all stocks\n",
    "        price_t = df_snp500_wide[(t-window):(t+1)]\n",
    "        ret_t = compute_return(price_t)\n",
    "        # Only pick corresponding w days window data from ((T x P) eigenportfolio df)\n",
    "        fac_ret_t = fac_ret[(t-window+1):(t+1)]\n",
    "        res_t, coef_t = find_Residue(ret_t, fac_ret_t)\n",
    "        target = find_Target_sscores(res_t, k)\n",
    "\n",
    "        for i in position_stock.columns:\n",
    "            if not i in target.index: # If i is dropped during find target s-score process, i.e. the mean reversion time was too long,\n",
    "                if position_stock[i]['stock'] != 0: # If the current position is non-zero\n",
    "                    position_stock[i] = 0 # clear the position\n",
    "            else: # if mean reversion time was short enough,\n",
    "                if position_stock[i]['stock'] == 0: # if the current position is zero\n",
    "                    if target[i] < -sbo: # if the current signal is lower than the buy to open threshold\n",
    "                        position_stock[i]['stock'] = leverage # i.e. set the stock row as 1, indicating we have a position in the stock\n",
    "                        position_stock[i][1:] = -leverage * coef_t[i] \n",
    "                    elif target[i] >sso:\n",
    "                        position_stock[i]['stock'] = - leverage\n",
    "                        position_stock[i][1:] = leverage * coef_t[i]\n",
    "                elif position_stock[i][0] > 0 and target[i] > -ssc: # If the current position is positive, and we have a sell to close signal\n",
    "                    position_stock[i] = 0\n",
    "                elif position_stock[i][0] < 0 and target[i] < sbc: # If the current position is negative, and we have a buy to close signal\n",
    "                    position_stock[i] = 0\n",
    "            dps_t = df_dividends.iloc[t+1]\n",
    "            pri_t = df_snp500_wide.iloc[t+1]\n",
    "            temp = (dps_t/pri_t).fillna(0)\n",
    "            position_stock_temp = pd.Series(0,index = df_snp500_wide.columns)\n",
    "            fac_sum = position_stock.sum(axis = 1)[1:]\n",
    "            for i in weights.columns:\n",
    "                position_stock_temp = sum(weights[i] * fac_sum)\n",
    "            position_stock_temp = position_stock_temp + position_stock.iloc[0]\n",
    "            change = sum(abs(position_stock_temp - position_stock_before))\n",
    "            position_stock_before = position_stock_temp\n",
    "            pnl.iloc[t-delay + 2] = pnl.iloc[t-delay + 1] * ( 1 + r /252.0) + np.dot(position_stock.loc['stock'], daily_ret.iloc[t]) + np.dot(position_stock.sum(axis = 1)[1:], fac_ret.iloc[t]) - position_stock.sum().sum() * r /252.0 - change * tran_cost\n",
    "        print (f'Portfolio value on day {t}: {pnl.iloc[t-delay + 2]}')\n",
    "        pnl_list.append(pnl.iloc[t-delay + 2])\n",
    "    return pnl_list"
   ]
  },
  {
   "cell_type": "code",
   "execution_count": 51,
   "id": "ba7d6490-3f10-43bf-8975-c4e627d8ed83",
   "metadata": {},
   "outputs": [],
   "source": [
    "import yfinance as yf\n",
    "import datetime\n",
    "import matplotlib.pyplot as plt"
   ]
  },
  {
   "cell_type": "code",
   "execution_count": 46,
   "id": "887ad92f-0dfd-4e75-b796-05833713d524",
   "metadata": {},
   "outputs": [],
   "source": [
    "start = datetime.datetime(2021 ,1 ,8)\n",
    "end = datetime.datetime(2021, 6, 30)"
   ]
  },
  {
   "cell_type": "code",
   "execution_count": 48,
   "id": "aaa2f2f9-1cfc-44f2-a52f-c411457c8fe4",
   "metadata": {},
   "outputs": [
    {
     "name": "stdout",
     "output_type": "stream",
     "text": [
      "[*********************100%***********************]  1 of 1 completed\n"
     ]
    }
   ],
   "source": [
    "df = yf.download('^KS11', start = start, end = end, period='1d')"
   ]
  },
  {
   "cell_type": "code",
   "execution_count": 73,
   "id": "8cb5c8f1-808b-4e91-a561-31f2ea72dd7c",
   "metadata": {},
   "outputs": [],
   "source": [
    "kospi_ret = compute_return(df.Close)"
   ]
  },
  {
   "cell_type": "code",
   "execution_count": 110,
   "id": "02167b8a-8acc-4997-b19b-2078024107e8",
   "metadata": {},
   "outputs": [
    {
     "data": {
      "text/plain": [
       "DatetimeIndex(['2021-01-11 00:00:00+09:00', '2021-01-12 00:00:00+09:00',\n",
       "               '2021-01-13 00:00:00+09:00', '2021-01-14 00:00:00+09:00',\n",
       "               '2021-01-15 00:00:00+09:00', '2021-01-18 00:00:00+09:00',\n",
       "               '2021-01-19 00:00:00+09:00', '2021-01-20 00:00:00+09:00',\n",
       "               '2021-01-21 00:00:00+09:00', '2021-01-22 00:00:00+09:00',\n",
       "               ...\n",
       "               '2021-06-16 00:00:00+09:00', '2021-06-17 00:00:00+09:00',\n",
       "               '2021-06-18 00:00:00+09:00', '2021-06-21 00:00:00+09:00',\n",
       "               '2021-06-22 00:00:00+09:00', '2021-06-23 00:00:00+09:00',\n",
       "               '2021-06-24 00:00:00+09:00', '2021-06-25 00:00:00+09:00',\n",
       "               '2021-06-28 00:00:00+09:00', '2021-06-29 00:00:00+09:00'],\n",
       "              dtype='datetime64[ns, Asia/Seoul]', name='Date', length=117, freq=None)"
      ]
     },
     "execution_count": 110,
     "metadata": {},
     "output_type": "execute_result"
    }
   ],
   "source": [
    "pd.DataFrame(kospi_ret).index"
   ]
  },
  {
   "cell_type": "code",
   "execution_count": 117,
   "id": "0d38a422-2d54-49f5-ab8b-f9536b9ba1c7",
   "metadata": {},
   "outputs": [],
   "source": [
    "return_lst = [100]\n",
    "for i in range(len(kospi_ret)):\n",
    "    return_lst.append(return_lst[-1] + return_lst[-1] * kospi_ret[i])"
   ]
  },
  {
   "cell_type": "code",
   "execution_count": 127,
   "id": "29bbf5e1-3abf-47f8-b027-12e8af4259c8",
   "metadata": {},
   "outputs": [
    {
     "data": {
      "text/plain": [
       "102.84925267746267"
      ]
     },
     "execution_count": 127,
     "metadata": {},
     "output_type": "execute_result"
    }
   ],
   "source": [
    "return_lst.pop()"
   ]
  },
  {
   "cell_type": "code",
   "execution_count": 128,
   "id": "7e6174f5-489f-4e14-a614-b20625f4e913",
   "metadata": {},
   "outputs": [
    {
     "data": {
      "text/plain": [
       "117"
      ]
     },
     "execution_count": 128,
     "metadata": {},
     "output_type": "execute_result"
    }
   ],
   "source": [
    "len(pd.DataFrame(kospi_ret).index)"
   ]
  },
  {
   "cell_type": "code",
   "execution_count": 129,
   "id": "950f317f-375e-4c4d-b39c-bd27af4616d5",
   "metadata": {},
   "outputs": [
    {
     "data": {
      "image/png": "[encoded data removed]",
      "text/plain": [
       "<Figure size 640x480 with 1 Axes>"
      ]
     },
     "metadata": {},
     "output_type": "display_data"
    }
   ],
   "source": [
    "plt.plot(pd.DataFrame(kospi_ret).index, pnl_output, '-r', label = 'Market neutral strategy')\n",
    "plt.plot(pd.DataFrame(kospi_ret).index, return_lst, '-b', label = 'KOSPI return')\n",
    "plt.legend()\n",
    "plt.show()"
   ]
  },
  {
   "cell_type": "code",
   "execution_count": 67,
   "id": "ecd00cfe-6d2b-4338-937c-7c5dcaa4b001",
   "metadata": {},
   "outputs": [
    {
     "data": {
      "application/vnd.jupyter.widget-view+json": {
       "model_id": "94222a09f5ed434aa64c5b71319fa246",
       "version_major": 2,
       "version_minor": 0
      },
      "text/plain": [
       "  0%|          | 0/119 [00:00<?, ?it/s]"
      ]
     },
     "metadata": {},
     "output_type": "display_data"
    },
    {
     "name": "stdout",
     "output_type": "stream",
     "text": [
      "Portfolio value on day 251: 100.11766175923283\n",
      "Portfolio value on day 252: 100.14671756242113\n",
      "Portfolio value on day 253: 100.40479297607818\n",
      "Portfolio value on day 254: 100.554664559422\n",
      "Portfolio value on day 255: 100.7065273671288\n",
      "Portfolio value on day 256: 100.9710541252818\n",
      "Portfolio value on day 257: 100.9395579230747\n",
      "Portfolio value on day 258: 100.90844395453723\n",
      "Portfolio value on day 259: 100.7026808850847\n",
      "Portfolio value on day 260: 100.66588929949852\n",
      "Portfolio value on day 261: 100.84553979737935\n",
      "Portfolio value on day 262: 100.71587770738161\n",
      "Portfolio value on day 263: 100.6001940069799\n",
      "Portfolio value on day 264: 100.82667495364053\n",
      "Portfolio value on day 265: 100.67099448958243\n",
      "Portfolio value on day 266: 100.64426915797759\n",
      "Portfolio value on day 267: 100.835397997538\n",
      "Portfolio value on day 268: 100.78188847207015\n",
      "Portfolio value on day 269: 100.64110155576728\n",
      "Portfolio value on day 270: 100.33022197675115\n",
      "Portfolio value on day 271: 100.53984117191794\n",
      "Portfolio value on day 272: 100.71762587524675\n",
      "Portfolio value on day 273: 100.7787067802407\n",
      "Portfolio value on day 274: 100.66804172149263\n",
      "Portfolio value on day 275: 100.77462651053357\n",
      "Portfolio value on day 276: 100.74392078115102\n",
      "Portfolio value on day 277: 100.64136521122713\n",
      "Portfolio value on day 278: 100.65310577892608\n",
      "Portfolio value on day 279: 100.49978338525625\n",
      "Portfolio value on day 280: 100.5317789084179\n",
      "Portfolio value on day 281: 100.36800487145456\n",
      "Portfolio value on day 282: 100.90821074751969\n",
      "Portfolio value on day 283: 100.53373299582294\n",
      "Portfolio value on day 284: 100.59624631934913\n",
      "Portfolio value on day 285: 100.67205517277607\n",
      "Portfolio value on day 286: 100.44362413095931\n",
      "Portfolio value on day 287: 100.36935512429365\n",
      "Portfolio value on day 288: 100.22921647860377\n",
      "Portfolio value on day 289: 100.23345138566184\n",
      "Portfolio value on day 290: 100.39077452959157\n",
      "Portfolio value on day 291: 100.44127225924518\n",
      "Portfolio value on day 292: 100.34269820526347\n",
      "Portfolio value on day 293: 100.42990056678447\n",
      "Portfolio value on day 294: 100.41151589870543\n",
      "Portfolio value on day 295: 100.22289123118006\n",
      "Portfolio value on day 296: 100.22457016324955\n",
      "Portfolio value on day 297: 100.3579360790066\n",
      "Portfolio value on day 298: 100.35362186284449\n",
      "Portfolio value on day 299: 100.30068287434983\n",
      "Portfolio value on day 300: 100.48544733903597\n",
      "Portfolio value on day 301: 100.58123025919228\n",
      "Portfolio value on day 302: 100.51225356827605\n",
      "Portfolio value on day 303: 100.29248435976767\n",
      "Portfolio value on day 304: 100.24919832194453\n",
      "Portfolio value on day 305: 100.2289504214272\n",
      "Portfolio value on day 306: 100.18138727874206\n",
      "Portfolio value on day 307: 100.1539539301642\n",
      "Portfolio value on day 308: 99.99859172718978\n",
      "Portfolio value on day 309: 99.93688129679809\n",
      "Portfolio value on day 310: 99.79184161006987\n",
      "Portfolio value on day 311: 99.93215588915326\n",
      "Portfolio value on day 312: 99.86792512153752\n",
      "Portfolio value on day 313: 99.80393765193152\n",
      "Portfolio value on day 314: 99.71791604991945\n",
      "Portfolio value on day 315: 99.77085145625011\n",
      "Portfolio value on day 316: 99.71665775436844\n",
      "Portfolio value on day 317: 99.65954239657606\n",
      "Portfolio value on day 318: 99.68801134031983\n",
      "Portfolio value on day 319: 99.54598025666168\n",
      "Portfolio value on day 320: 99.62029701893688\n",
      "Portfolio value on day 321: 99.04459476957172\n",
      "Portfolio value on day 322: 98.89035926644705\n",
      "Portfolio value on day 323: 99.30147012101028\n",
      "Portfolio value on day 324: 99.46745364764618\n",
      "Portfolio value on day 325: 99.56550666420588\n",
      "Portfolio value on day 326: 99.38948217819555\n",
      "Portfolio value on day 327: 99.41428050520977\n",
      "Portfolio value on day 328: 99.26191200372132\n",
      "Portfolio value on day 329: 99.16715956106434\n",
      "Portfolio value on day 330: 99.38207985069162\n",
      "Portfolio value on day 331: 99.36499211254136\n",
      "Portfolio value on day 332: 99.46241102346009\n",
      "Portfolio value on day 333: 99.48351365565766\n",
      "Portfolio value on day 334: 99.17183493878476\n",
      "Portfolio value on day 335: 99.00308662025118\n",
      "Portfolio value on day 336: 98.9281670824305\n",
      "Portfolio value on day 337: 99.10840593740808\n",
      "Portfolio value on day 338: 99.04078776464453\n",
      "Portfolio value on day 339: 99.02605374288783\n",
      "Portfolio value on day 340: 98.89313909061823\n",
      "Portfolio value on day 341: 99.083209978084\n",
      "Portfolio value on day 342: 99.78994427853448\n",
      "Portfolio value on day 343: 100.17953860797034\n",
      "Portfolio value on day 344: 99.96098039301383\n",
      "Portfolio value on day 345: 99.53136337769068\n",
      "Portfolio value on day 346: 99.48833365329456\n",
      "Portfolio value on day 347: 99.09139531216029\n",
      "Portfolio value on day 348: 99.48758047951252\n",
      "Portfolio value on day 349: 98.94431830438633\n",
      "Portfolio value on day 350: 98.65461361571508\n",
      "Portfolio value on day 351: 98.09055893639275\n",
      "Portfolio value on day 352: 97.7002098221916\n",
      "Portfolio value on day 353: 97.91639006281906\n",
      "Portfolio value on day 354: 98.24579322527667\n",
      "Portfolio value on day 355: 97.64338480079307\n",
      "Portfolio value on day 356: 97.22442405350999\n",
      "Portfolio value on day 357: 96.96200729789213\n",
      "Portfolio value on day 358: 96.94704229282613\n",
      "Portfolio value on day 359: 97.04558210425728\n",
      "Portfolio value on day 360: 96.53716361305038\n",
      "Portfolio value on day 361: 96.82810436314826\n",
      "Portfolio value on day 362: 96.67771217796466\n",
      "Portfolio value on day 363: 96.39237119309915\n",
      "Portfolio value on day 364: 95.67628820664378\n",
      "Portfolio value on day 365: 95.72342235806065\n",
      "Portfolio value on day 366: 95.910729943709\n",
      "Portfolio value on day 367: 95.88627875021392\n",
      "Portfolio value on day 368: 96.0427628536138\n",
      "Portfolio value on day 369: 95.95987801771994\n"
     ]
    }
   ],
   "source": [
    "pnl_output = backtest()"
   ]
  },
  {
   "cell_type": "code",
   "execution_count": null,
   "id": "dc1f58b1-fc4f-46b8-beca-e744c9d96b81",
   "metadata": {},
   "outputs": [],
   "source": []
  },
  {
   "cell_type": "code",
   "execution_count": null,
   "id": "cf7f85c1-eebf-4989-b1f5-c9c6d6504f62",
   "metadata": {},
   "outputs": [],
   "source": []
  },
  {
   "cell_type": "code",
   "execution_count": null,
   "id": "957514b9-cef4-435f-9416-8202a6262486",
   "metadata": {},
   "outputs": [],
   "source": []
  },
  {
   "cell_type": "code",
   "execution_count": null,
   "id": "4faa4586-edd9-4b71-b3cf-f10292eb1baf",
   "metadata": {},
   "outputs": [],
   "source": []
  },
  {
   "cell_type": "code",
   "execution_count": null,
   "id": "d3aef822-db8b-4c88-9a1e-53e71d856e12",
   "metadata": {},
   "outputs": [],
   "source": []
  }
 ],
 "metadata": {
  "kernelspec": {
   "display_name": "Python 3 (ipykernel)",
   "language": "python",
   "name": "python3"
  },
  "language_info": {
   "codemirror_mode": {
    "name": "ipython",
    "version": 3
   },
   "file_extension": ".py",
   "mimetype": "text/x-python",
   "name": "python",
   "nbconvert_exporter": "python",
   "pygments_lexer": "ipython3",
   "version": "3.9.15"
  }
 },
 "nbformat": 4,
 "nbformat_minor": 5
}
